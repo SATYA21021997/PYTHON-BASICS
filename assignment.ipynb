{
  "nbformat": 4,
  "nbformat_minor": 0,
  "metadata": {
    "colab": {
      "provenance": []
    },
    "kernelspec": {
      "name": "python3",
      "display_name": "Python 3"
    },
    "language_info": {
      "name": "python"
    }
  },
  "cells": [
    {
      "cell_type": "code",
      "execution_count": null,
      "metadata": {
        "id": "Hr8yNjWa5gMS"
      },
      "outputs": [],
      "source": []
    },
    {
      "cell_type": "markdown",
      "source": [
        "ANSWER SHEET\n",
        "\n",
        "\n",
        "1. WHAT IS PYTHON AND WHY IS IT POPULAR?\n",
        "\n",
        "ANS - PYTHON IS A COMPUTER PROGRAMMING LANGUAGE AND IT IS POPULAR BECAUSE OF EASE OF LEARNING AND WIDELY USED IN IT , DATA, AUTOMATION, AI AND ML INDUSTRIES.\n",
        "\n",
        "2. WHAT IS AN INTERPRETER IN PYTHON?\n",
        "\n",
        "ANS - THE PYTHOBN INTERPRETER IS A CRUCIAL COMPONENT THAT ALLOWS PYTHON CODE TO BE EXECUTED. IT TRANSLATES PYTHON HIGH LEVEL CODE INTO A FORM THAT COMPUTER PROCESSOR CAN UNDERSTAND AND EXECUTE.\n",
        "\n",
        "3. WHAT ARE PRE DEFINED KEYWORDS IN PYTHON?\n",
        "\n",
        "ANS- IN PYTHON PROGRAMMING LANGUAGE, THERE ARE A SET OF PRE DEFINED WORDS, CALLED KEYWORDS,WHICH IS ESSENTIAL FOR MAKING MEANINGFUL STATEMENTS.\n",
        "\n",
        "4. CAN KEYWORDS BE USED AS VARIABLE NAMES?\n",
        "\n",
        "ANS- NO, PYTHON KEYWORDS CAN NOT BE USED AS VARIABLE NAMES\n",
        "\n",
        "5. WHAT IS MUTABILITY IN PYTHON?\n",
        "\n",
        "ANS - IN PYTHON WE CAN CHANGE CONTENTS OF A LIST, PYTHON'S ABILITY TO PROCESS SUCH CODES IS KNOWN AS MUTABILITY.\n",
        "\n",
        "6. WHY ARE LIST MUTABLE BUT TUPPLES ARE IMMUTABLE?\n",
        "\n",
        "ANS- LISTS ARE COLLECTIONS WHICH IS DESGINED TO BE FLEXIBLE AND DYNAMIC AND ALLOW CHANGES. BUT TUPPLES ARE FIXED IN NATURE AND RESIST ANY FURTHER CHANGE.\n",
        "\n",
        "7. WHAT IS THE DIFFERENCE BETWEEN \"==\" AND \"IS OPERATOR\"S IN PYTHON?\n",
        "\n",
        "ANS - \"==\" OPERATOR IS USED TO COMPARE EQUALITY AND \"IS\" OPERATOR IS USED TO COMPARE WHETHER TWO VARIABLE ARE SAME OBJECT IN MEMORY OR NOT.\n",
        "\n",
        "8. WHAT ARE LOGICAL OPERATORS ON PYTHON?\n",
        "\n",
        "ANS- \"AND\" AND \"OR\" OPERATORS ARE LOGICAL OPERATORS IN PYTHON.\n",
        "\n",
        "9. WHAT IS TYPE CASTING IN PYTHON?\n",
        "\n",
        "ANS- THE PROCESS OF CHANGING THE DATA TYPE OF A VALUE/OBJECT.\n",
        "\n",
        "10. WHAT IS THE DIFFERENCE BETWEEN IMPLICIT AND EXPLICIT TYPE CASTING?\n",
        "\n",
        "ANS- IMPLICIT TYPE CASTING HAPPENS AUTOMATICALLY WHEN PYTHON CONVERTS ONE DATA TYPE INTO ANOTHER WITHOUT USER INTERFERANCE.BUT EXPLICIT TYPE CASTING HAPPENS USER CODE TO CHANGE ONE DATA TYPE INTO ANOTHER BY USING BUILT IN FUNCTIONS LIKE INT(),FLOAT(),STR().\n",
        "\n",
        "11. WHAT IS THE PURPOSE OF CONDITIONAL STATEMENTS IN PYTHON?\n",
        "\n",
        "ANS - CONDITIONAL STATEMENTS ARE USED TO EXECUTE SPECIFIC BLOCKS OF CODES ON BASIS OF TRUE OR FALSE CONDITIONS.\n",
        "\n",
        "12. HOW DOES ELIF STATEMENT WORK?\n",
        "\n",
        "ANS -  ELIF STATEMENT IS USED TO CHECK ADDITIONAL CONDITION IN A CHAIN OF CONDITIONAL CHECKS.\n",
        "\n",
        "13. WHAT IS THE DIFFERENCE BETWEEN FOR AND WHILE LOOP?\n",
        "\n",
        "ANS - FOR LOOP IS USED WHEN WE KNOW HOW MANY TIMES WE WANT TO ITERATE OVER A SEQUENCE. WHILE LOOP IS USED WHEN WE DON'T KNOW HOW MANY TIMES WE HAVE TO ITTERATE BUT WE WNT TO REPEAT A BLOCK OF CODE WHEN CERTAIN CONDITION IS TRUE.\n",
        "\n",
        "14. DESCRIBE A SCENARIO WHERE A WHILE LOOP IS MORE SUITABLE THAN A FOR LOOP?\n",
        "\n",
        "ANS- A WHILE LOOP IS SUITABLE OVER A FOR LOOP WHEN WE DON'T KNOW HOW MANY TIMES WE HAVE TO ITTERATE AND THE LOOP NEEDS TO CONTINUE TILL CONDITION IS CERTAIN TRUE."
      ],
      "metadata": {
        "id": "cbKjtxfC5mOA"
      }
    },
    {
      "cell_type": "code",
      "source": [],
      "metadata": {
        "id": "At4XL9fKXpsY"
      },
      "execution_count": null,
      "outputs": []
    },
    {
      "cell_type": "code",
      "source": [],
      "metadata": {
        "id": "36Kqv3YWXqDM"
      },
      "execution_count": null,
      "outputs": []
    },
    {
      "cell_type": "markdown",
      "source": [
        "PRACTICAL QUESTIONS"
      ],
      "metadata": {
        "id": "GFbwcTAkXqsD"
      }
    },
    {
      "cell_type": "markdown",
      "source": [
        "1. WRITE A PYTHON PROGRAM TO PRINT \"HELLO WORLD\""
      ],
      "metadata": {
        "id": "rxBHBEPJXzAf"
      }
    },
    {
      "cell_type": "code",
      "source": [
        "print (\"HELLO WORLD!!!\")"
      ],
      "metadata": {
        "colab": {
          "base_uri": "https://localhost:8080/"
        },
        "id": "RUFGXvSAX9lU",
        "outputId": "4f8faf49-faf4-4a6c-f831-9513737e8fca"
      },
      "execution_count": 3,
      "outputs": [
        {
          "output_type": "stream",
          "name": "stdout",
          "text": [
            "HELLO WORLD!!!\n"
          ]
        }
      ]
    },
    {
      "cell_type": "code",
      "source": [],
      "metadata": {
        "id": "G6AMFoVCYaIg"
      },
      "execution_count": null,
      "outputs": []
    },
    {
      "cell_type": "markdown",
      "source": [
        "2. WRITE A PYTHON PROGRAM THAT DISPLAYS YOUR NAME AND AGE."
      ],
      "metadata": {
        "id": "KMGOJ5RjYakC"
      }
    },
    {
      "cell_type": "code",
      "source": [
        "name = \"satyaprakash panda\"\n",
        "age = 27\n",
        "print (name, age)"
      ],
      "metadata": {
        "colab": {
          "base_uri": "https://localhost:8080/"
        },
        "id": "rB-TkEsuYpaT",
        "outputId": "a9c43af3-e402-474a-9e90-756dc5aadb86"
      },
      "execution_count": 4,
      "outputs": [
        {
          "output_type": "stream",
          "name": "stdout",
          "text": [
            "satyaprakash panda 27\n"
          ]
        }
      ]
    },
    {
      "cell_type": "code",
      "source": [],
      "metadata": {
        "id": "seSuPorsY6UH"
      },
      "execution_count": null,
      "outputs": []
    },
    {
      "cell_type": "markdown",
      "source": [
        "3. WRITE A CODE TO PRINT ALL PRE-DEFINED KEYWORDS IN PYTHON USING KEYWORD LIBRARY."
      ],
      "metadata": {
        "id": "b2GWbwcWZAnT"
      }
    },
    {
      "cell_type": "code",
      "source": [
        "print(\"Python Keywords:\")\n",
        "print(keyword.kwlist)\n",
        "\n",
        "\n"
      ],
      "metadata": {
        "colab": {
          "base_uri": "https://localhost:8080/"
        },
        "id": "g4FlQrEpZZHO",
        "outputId": "902b00e1-9888-4613-b86c-1500ef3f2afd"
      },
      "execution_count": 10,
      "outputs": [
        {
          "output_type": "stream",
          "name": "stdout",
          "text": [
            "Python Keywords:\n",
            "['False', 'None', 'True', 'and', 'as', 'assert', 'async', 'await', 'break', 'class', 'continue', 'def', 'del', 'elif', 'else', 'except', 'finally', 'for', 'from', 'global', 'if', 'import', 'in', 'is', 'lambda', 'nonlocal', 'not', 'or', 'pass', 'raise', 'return', 'try', 'while', 'with', 'yield']\n"
          ]
        }
      ]
    },
    {
      "cell_type": "code",
      "source": [],
      "metadata": {
        "id": "IySgkgfDZa6N"
      },
      "execution_count": null,
      "outputs": []
    },
    {
      "cell_type": "markdown",
      "source": [
        "4. WRITE A PROGRAM THAT CHECKS IF A GIVEN WORD IS A PYTHON KEYWORD"
      ],
      "metadata": {
        "id": "cfP4sWOZaS0z"
      }
    },
    {
      "cell_type": "code",
      "source": [
        "a = input(\"enter your word - \")\n",
        "b = keyword.kwlist\n",
        "for i in b:\n",
        "  if a == i:\n",
        "    print(\"your word is a python keyword\")\n",
        "\n",
        "\n",
        ""
      ],
      "metadata": {
        "colab": {
          "base_uri": "https://localhost:8080/"
        },
        "id": "1fnjMc1UarMF",
        "outputId": "bf348971-e7e1-4ef5-9e19-452aab3c9ad4"
      },
      "execution_count": 28,
      "outputs": [
        {
          "output_type": "stream",
          "name": "stdout",
          "text": [
            "enter your word - as\n",
            "your word is a python keyword\n"
          ]
        }
      ]
    },
    {
      "cell_type": "code",
      "source": [],
      "metadata": {
        "id": "cG67vZ-hbvzr"
      },
      "execution_count": null,
      "outputs": []
    },
    {
      "cell_type": "markdown",
      "source": [
        "5. CREATE A LIST AND TUPPLE IN PYTHON AND DEMONSTRATE HOW ATTEMPTING TO CHANGE AN ELEMENT WORKS DIFFERENTLY FOR EACH"
      ],
      "metadata": {
        "id": "pw07VeESfnsn"
      }
    },
    {
      "cell_type": "code",
      "source": [
        "a = [\"apple\", \"ball\", \"cat\", \"dog\", \"elephant\", \"fox\", \"gorilla\", \"horse\"]\n",
        "a[0] = \"mango\"\n",
        "print(a)"
      ],
      "metadata": {
        "colab": {
          "base_uri": "https://localhost:8080/"
        },
        "id": "jlR67QSjgQmC",
        "outputId": "baac4d0a-b7b5-4f65-af32-7c7fed5d3b80"
      },
      "execution_count": 34,
      "outputs": [
        {
          "output_type": "stream",
          "name": "stdout",
          "text": [
            "['mango', 'ball', 'cat', 'dog', 'elephant', 'fox', 'gorilla', 'horse']\n"
          ]
        }
      ]
    },
    {
      "cell_type": "code",
      "source": [
        "b = (\"america\", \"britain\", \"canada\", \"denmark\", \"ethiopia\", \"france\")\n",
        "b[0] = \"usa\"\n",
        "print(b)"
      ],
      "metadata": {
        "colab": {
          "base_uri": "https://localhost:8080/",
          "height": 182
        },
        "id": "MZnPEhKrhEG3",
        "outputId": "306177e8-95b3-4903-f326-01ca5c310848"
      },
      "execution_count": 36,
      "outputs": [
        {
          "output_type": "error",
          "ename": "TypeError",
          "evalue": "'tuple' object does not support item assignment",
          "traceback": [
            "\u001b[0;31m---------------------------------------------------------------------------\u001b[0m",
            "\u001b[0;31mTypeError\u001b[0m                                 Traceback (most recent call last)",
            "\u001b[0;32m<ipython-input-36-7d5f4605a791>\u001b[0m in \u001b[0;36m<cell line: 2>\u001b[0;34m()\u001b[0m\n\u001b[1;32m      1\u001b[0m \u001b[0mb\u001b[0m \u001b[0;34m=\u001b[0m \u001b[0;34m(\u001b[0m\u001b[0;34m\"america\"\u001b[0m\u001b[0;34m,\u001b[0m \u001b[0;34m\"britain\"\u001b[0m\u001b[0;34m,\u001b[0m \u001b[0;34m\"canada\"\u001b[0m\u001b[0;34m,\u001b[0m \u001b[0;34m\"denmark\"\u001b[0m\u001b[0;34m,\u001b[0m \u001b[0;34m\"ethiopia\"\u001b[0m\u001b[0;34m,\u001b[0m \u001b[0;34m\"france\"\u001b[0m\u001b[0;34m)\u001b[0m\u001b[0;34m\u001b[0m\u001b[0;34m\u001b[0m\u001b[0m\n\u001b[0;32m----> 2\u001b[0;31m \u001b[0mb\u001b[0m\u001b[0;34m[\u001b[0m\u001b[0;36m0\u001b[0m\u001b[0;34m]\u001b[0m \u001b[0;34m=\u001b[0m \u001b[0;34m\"usa\"\u001b[0m\u001b[0;34m\u001b[0m\u001b[0;34m\u001b[0m\u001b[0m\n\u001b[0m\u001b[1;32m      3\u001b[0m \u001b[0mprint\u001b[0m\u001b[0;34m(\u001b[0m\u001b[0mb\u001b[0m\u001b[0;34m)\u001b[0m\u001b[0;34m\u001b[0m\u001b[0;34m\u001b[0m\u001b[0m\n",
            "\u001b[0;31mTypeError\u001b[0m: 'tuple' object does not support item assignment"
          ]
        }
      ]
    },
    {
      "cell_type": "code",
      "source": [],
      "metadata": {
        "id": "ebSLpWiJiTxf"
      },
      "execution_count": null,
      "outputs": []
    },
    {
      "cell_type": "markdown",
      "source": [
        "6. WRITE A FUNCTION TO DEMONSTRATE THE BEHAVIOUR OF MUTABLE AND IMMUTABLE ARGUEMENTS"
      ],
      "metadata": {
        "id": "45i9GEDUikSQ"
      }
    },
    {
      "cell_type": "markdown",
      "source": [
        "7. WRITE A FUNCTION TO DEMONSTRATE THE BEHAVIOUR OF MUTABLE AND IMMUTABLE ARGUEMENTS"
      ],
      "metadata": {
        "id": "MhquPjevjXCg"
      }
    },
    {
      "cell_type": "code",
      "source": [
        "a = [\"apple\", \"ball\", \"cat\", \"dog\", \"elephant\", \"fox\", \"gorilla\", \"horse\"] #list is mutable\n",
        "a[0] = \"mango\"\n",
        "print(a)"
      ],
      "metadata": {
        "id": "wGQTLY5djZm1"
      },
      "execution_count": null,
      "outputs": []
    },
    {
      "cell_type": "code",
      "source": [
        "b = (\"america\", \"britain\", \"canada\", \"denmark\", \"ethiopia\", \"france\") #tupple is immutable\n",
        "b[0] = \"usa\"\n",
        "print(b)"
      ],
      "metadata": {
        "id": "CFVsUCkMjZqL"
      },
      "execution_count": null,
      "outputs": []
    },
    {
      "cell_type": "code",
      "source": [],
      "metadata": {
        "id": "M5pcD9pejZvL"
      },
      "execution_count": null,
      "outputs": []
    },
    {
      "cell_type": "markdown",
      "source": [
        "8. WRITE A PROGRAM TO TO DEMONSTRATE THE USE OF LOGICAL OPERATOR"
      ],
      "metadata": {
        "id": "sFP4-lZHjaQ6"
      }
    },
    {
      "cell_type": "code",
      "source": [
        "a = int(input(\"enter your number - \"))\n",
        "b = int(input(\"enter your number - \"))\n",
        "if a > 0 and b > 0:\n",
        "  print(\"success\")"
      ],
      "metadata": {
        "colab": {
          "base_uri": "https://localhost:8080/"
        },
        "id": "M9cbeThqjrIf",
        "outputId": "b009b5c5-e222-459a-92a0-1a979f4436e7"
      },
      "execution_count": 42,
      "outputs": [
        {
          "output_type": "stream",
          "name": "stdout",
          "text": [
            "enter your number - 10\n",
            "enter your number - 12\n",
            "success\n"
          ]
        }
      ]
    },
    {
      "cell_type": "code",
      "source": [],
      "metadata": {
        "id": "x7KO9LtdkvgY"
      },
      "execution_count": null,
      "outputs": []
    },
    {
      "cell_type": "markdown",
      "source": [
        "9. WRITE A PYTHON PROGRAM TO CONVERT USER INPUT FROM STRING TO INTEGER, FLOAT AND BOOLEAN TYPES"
      ],
      "metadata": {
        "id": "u9nq2smJmp_g"
      }
    },
    {
      "cell_type": "code",
      "source": [
        "a = input(\"enter your number - \")\n",
        "b = int(a)\n",
        "c = float(a)\n",
        "d = bool(a)\n",
        "\n",
        "print(a,type(a),b,type(b),c,type(c),d,type(d))\n"
      ],
      "metadata": {
        "colab": {
          "base_uri": "https://localhost:8080/"
        },
        "id": "BhZJdnZ3nRLC",
        "outputId": "7a9f04ab-ab50-4a7c-d5b7-e68a8f06b825"
      },
      "execution_count": 47,
      "outputs": [
        {
          "output_type": "stream",
          "name": "stdout",
          "text": [
            "enter your number - 20\n",
            "20 <class 'str'> 20 <class 'int'> 20.0 <class 'float'> True <class 'bool'>\n"
          ]
        }
      ]
    },
    {
      "cell_type": "code",
      "source": [],
      "metadata": {
        "id": "atCQwWS3nkx4"
      },
      "execution_count": null,
      "outputs": []
    },
    {
      "cell_type": "markdown",
      "source": [
        "10. WRITE A CODE TO DEMONSTRATE TYPE CASTING WITH LIST ELEMENTS."
      ],
      "metadata": {
        "id": "PmbXeCCqopw-"
      }
    },
    {
      "cell_type": "code",
      "source": [
        "a = [100, 200, 300, 400, 500]\n",
        "a[0] = float(a[0])\n",
        "print(a)"
      ],
      "metadata": {
        "colab": {
          "base_uri": "https://localhost:8080/"
        },
        "id": "0AltnDjCpRZB",
        "outputId": "0e52a3b5-01e4-4d0d-f524-5be1758d74bf"
      },
      "execution_count": 51,
      "outputs": [
        {
          "output_type": "stream",
          "name": "stdout",
          "text": [
            "[100.0, 200, 300, 400, 500]\n"
          ]
        }
      ]
    },
    {
      "cell_type": "code",
      "source": [],
      "metadata": {
        "id": "tMkr8-rdpkLa"
      },
      "execution_count": null,
      "outputs": []
    },
    {
      "cell_type": "markdown",
      "source": [
        "11. WRITE A PROGRAM THAT CHECKS IF A NUMBER IS POSITIVE,NEGATIVE OR ZERO."
      ],
      "metadata": {
        "id": "JM9c-hyvqP3_"
      }
    },
    {
      "cell_type": "code",
      "source": [
        "a = int(input(\"enter your number - \"))\n",
        "if a > 0:\n",
        "  print(\"positive\")\n",
        "elif a < 0:\n",
        "  print(\"negative\")\n",
        "else:\n",
        "  print(\"zero\")"
      ],
      "metadata": {
        "colab": {
          "base_uri": "https://localhost:8080/"
        },
        "id": "7B6yRUu5qdza",
        "outputId": "860a93fe-6b12-4221-dfa2-cac8a6d496fb"
      },
      "execution_count": 55,
      "outputs": [
        {
          "output_type": "stream",
          "name": "stdout",
          "text": [
            "enter your number - 2\n",
            "positive\n"
          ]
        }
      ]
    },
    {
      "cell_type": "code",
      "source": [],
      "metadata": {
        "id": "apqlErstqowP"
      },
      "execution_count": null,
      "outputs": []
    },
    {
      "cell_type": "markdown",
      "source": [
        "12. WRITE A FOR LOOP TO PRINT FROM 1 TO 10"
      ],
      "metadata": {
        "id": "dlAMwl_arXK3"
      }
    },
    {
      "cell_type": "code",
      "source": [
        "for i in range(1, 11):\n",
        "  print(i)"
      ],
      "metadata": {
        "colab": {
          "base_uri": "https://localhost:8080/"
        },
        "id": "IIdy26PMrjL4",
        "outputId": "17a5f845-8bca-4bfe-f3d4-228efa538c9d"
      },
      "execution_count": 56,
      "outputs": [
        {
          "output_type": "stream",
          "name": "stdout",
          "text": [
            "1\n",
            "2\n",
            "3\n",
            "4\n",
            "5\n",
            "6\n",
            "7\n",
            "8\n",
            "9\n",
            "10\n"
          ]
        }
      ]
    },
    {
      "cell_type": "code",
      "source": [],
      "metadata": {
        "id": "RQVNoRtarzRg"
      },
      "execution_count": null,
      "outputs": []
    },
    {
      "cell_type": "markdown",
      "source": [
        "13. WRITE A PYTHON PROGRAMME TO FIND THE SUM OF ALL EVEN NUMBERS BETWEEN 1 AND 50."
      ],
      "metadata": {
        "id": "YEUyPC4qr4mB"
      }
    },
    {
      "cell_type": "code",
      "source": [
        "a = 1\n",
        "b = 0\n",
        "while a < 50:\n",
        "  if a % 2 == 0:\n",
        "    b = b + a\n",
        "  else:\n",
        "    a = a + 1\n",
        "print(b)\n"
      ],
      "metadata": {
        "colab": {
          "base_uri": "https://localhost:8080/",
          "height": 219
        },
        "id": "84uSCiGMsX9p",
        "outputId": "82c20373-de5f-4c6a-aa61-b424ce920eb1"
      },
      "execution_count": 62,
      "outputs": [
        {
          "output_type": "error",
          "ename": "KeyboardInterrupt",
          "evalue": "",
          "traceback": [
            "\u001b[0;31m---------------------------------------------------------------------------\u001b[0m",
            "\u001b[0;31mKeyboardInterrupt\u001b[0m                         Traceback (most recent call last)",
            "\u001b[0;32m<ipython-input-62-e548c8389cc2>\u001b[0m in \u001b[0;36m<cell line: 3>\u001b[0;34m()\u001b[0m\n\u001b[1;32m      1\u001b[0m \u001b[0ma\u001b[0m \u001b[0;34m=\u001b[0m \u001b[0;36m1\u001b[0m\u001b[0;34m\u001b[0m\u001b[0;34m\u001b[0m\u001b[0m\n\u001b[1;32m      2\u001b[0m \u001b[0mb\u001b[0m \u001b[0;34m=\u001b[0m \u001b[0;36m0\u001b[0m\u001b[0;34m\u001b[0m\u001b[0;34m\u001b[0m\u001b[0m\n\u001b[0;32m----> 3\u001b[0;31m \u001b[0;32mwhile\u001b[0m \u001b[0ma\u001b[0m \u001b[0;34m<\u001b[0m \u001b[0;36m50\u001b[0m\u001b[0;34m:\u001b[0m\u001b[0;34m\u001b[0m\u001b[0;34m\u001b[0m\u001b[0m\n\u001b[0m\u001b[1;32m      4\u001b[0m   \u001b[0;32mif\u001b[0m \u001b[0ma\u001b[0m \u001b[0;34m%\u001b[0m \u001b[0;36m2\u001b[0m \u001b[0;34m==\u001b[0m \u001b[0;36m0\u001b[0m\u001b[0;34m:\u001b[0m\u001b[0;34m\u001b[0m\u001b[0;34m\u001b[0m\u001b[0m\n\u001b[1;32m      5\u001b[0m     \u001b[0mb\u001b[0m \u001b[0;34m=\u001b[0m \u001b[0mb\u001b[0m \u001b[0;34m+\u001b[0m \u001b[0ma\u001b[0m\u001b[0;34m\u001b[0m\u001b[0;34m\u001b[0m\u001b[0m\n",
            "\u001b[0;31mKeyboardInterrupt\u001b[0m: "
          ]
        }
      ]
    },
    {
      "cell_type": "markdown",
      "source": [
        "14. WRITE A PROGRAM TO REVERSE A STRING USING WHILE LOOP.\n"
      ],
      "metadata": {
        "id": "q-Ujc91aw63X"
      }
    },
    {
      "cell_type": "code",
      "source": [],
      "metadata": {
        "id": "pDB276tvxM5e"
      },
      "execution_count": null,
      "outputs": []
    },
    {
      "cell_type": "code",
      "source": [],
      "metadata": {
        "id": "Yvd9OR2Xu-_q"
      },
      "execution_count": null,
      "outputs": []
    },
    {
      "cell_type": "markdown",
      "source": [
        "15. WRITE A PYTHON PROGRAM TO CALCULATE FACTORIAL OF A NUMBER PROVIDED BY USER USING A WHILE LOOP."
      ],
      "metadata": {
        "id": "YsPtMASJxsqN"
      }
    },
    {
      "cell_type": "code",
      "source": [
        "a = int(input(\"enter your number - \"))\n",
        "b = 1\n",
        "while a > 0:\n",
        "  b = b * a\n",
        "  a = a - 1\n",
        "print(b)\n"
      ],
      "metadata": {
        "colab": {
          "base_uri": "https://localhost:8080/"
        },
        "id": "tFTPJZWlyIgZ",
        "outputId": "455f85d8-4e88-4c06-ff1b-64276aa1fad1"
      },
      "execution_count": 64,
      "outputs": [
        {
          "output_type": "stream",
          "name": "stdout",
          "text": [
            "enter your number - 3\n",
            "6\n"
          ]
        }
      ]
    },
    {
      "cell_type": "code",
      "source": [],
      "metadata": {
        "id": "U9VBj97Vz27I"
      },
      "execution_count": null,
      "outputs": []
    }
  ]
}